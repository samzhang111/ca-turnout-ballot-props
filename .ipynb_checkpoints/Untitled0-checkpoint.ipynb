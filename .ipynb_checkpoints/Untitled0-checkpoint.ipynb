{
 "metadata": {
  "name": "",
  "signature": "sha256:ea869a2955dbcab08a48102c183849ef9a44871bcdc455ee620b143f96336288"
 },
 "nbformat": 3,
 "nbformat_minor": 0,
 "worksheets": []
}